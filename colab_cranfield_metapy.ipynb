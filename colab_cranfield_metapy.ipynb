{
  "nbformat": 4,
  "nbformat_minor": 0,
  "metadata": {
    "colab": {
      "name": "colab_cranfield_metapy.ipynb",
      "provenance": [],
      "collapsed_sections": [],
      "authorship_tag": "ABX9TyPg/y6xfE+pq3Kw7SokhEp6",
      "include_colab_link": true
    },
    "kernelspec": {
      "name": "python3",
      "display_name": "Python 3"
    }
  },
  "cells": [
    {
      "cell_type": "markdown",
      "metadata": {
        "id": "view-in-github",
        "colab_type": "text"
      },
      "source": [
        "<a href=\"https://colab.research.google.com/github/codylw2/CourseProject/blob/main/colab_cranfield_metapy.ipynb\" target=\"_parent\"><img src=\"https://colab.research.google.com/assets/colab-badge.svg\" alt=\"Open In Colab\"/></a>"
      ]
    },
    {
      "cell_type": "markdown",
      "metadata": {
        "id": "X7nGZYLzQ9-_"
      },
      "source": [
        "# Authenticate for Google Drive"
      ]
    },
    {
      "cell_type": "markdown",
      "metadata": {
        "id": "7ZjECbejRgoU"
      },
      "source": [
        "There is a file size limitation for my github repository so I have added the files that will be used for this session into my Google Drive and made them publicly shareable. In order to access them you must authenticate to Google. It should not matter what account you use to do this since the files are public."
      ]
    },
    {
      "cell_type": "code",
      "metadata": {
        "id": "Ops1_efEHNH3"
      },
      "source": [
        "!pip install -q PyDrive\r\n",
        "!pip install -q metapy\r\n",
        "!pip install -q pytoml"
      ],
      "execution_count": null,
      "outputs": []
    },
    {
      "cell_type": "code",
      "metadata": {
        "id": "Hcb4Gx5iGtTL"
      },
      "source": [
        "from pydrive.auth import GoogleAuth\r\n",
        "from pydrive.drive import GoogleDrive\r\n",
        "from google.colab import auth\r\n",
        "from oauth2client.client import GoogleCredentials\r\n",
        "auth.authenticate_user()\r\n",
        "gauth = GoogleAuth()\r\n",
        "gauth.credentials = GoogleCredentials.get_application_default()\r\n",
        "drive = GoogleDrive(gauth)"
      ],
      "execution_count": 20,
      "outputs": []
    },
    {
      "cell_type": "markdown",
      "metadata": {
        "id": "G2xDn3TXQyhp"
      },
      "source": [
        "# Acquire Files"
      ]
    },
    {
      "cell_type": "code",
      "metadata": {
        "id": "xZ2Lo1WO8Yqm"
      },
      "source": [
        "!git clone https://github.com/codylw2/CourseProject.git"
      ],
      "execution_count": null,
      "outputs": []
    },
    {
      "cell_type": "code",
      "metadata": {
        "id": "1cTfIlnN8uSy"
      },
      "source": [
        "%cd /content/CourseProject/competition\r\n",
        "!mkdir json_data\r\n",
        "%cd json_data"
      ],
      "execution_count": null,
      "outputs": []
    },
    {
      "cell_type": "code",
      "metadata": {
        "id": "TwGJVqF0HD_Y"
      },
      "source": [
        "# test_docs.json https://drive.google.com/file/d/1XqHy17_eOGk-BE91AC3gmKyJ1PiEjc6A/view?usp=sharing\r\n",
        "downloaded = drive.CreateFile({'id':\"1XqHy17_eOGk-BE91AC3gmKyJ1PiEjc6A\"})\r\n",
        "downloaded.GetContentFile('test_queries.json')\r\n",
        "\r\n",
        "# train_docs.json : https://drive.google.com/file/d/1iyJ5F1BAT6BFKLOyumMt6z8jUaJ6KZLQ/view?usp=sharing\r\n",
        "downloaded = drive.CreateFile({'id':\"1XrBInztxbKW9FdNn8Tso9wPvnzkLbGaT\"})\r\n",
        "downloaded.GetContentFile('test_docs.json')\r\n",
        "\r\n",
        "# train_queries.json : https://drive.google.com/file/d/1Dp2ExBJtUBE3UOpSuh1AwQnCH6vbYnaD/view?usp=sharing\r\n",
        "downloaded = drive.CreateFile({'id':\"1Dp2ExBJtUBE3UOpSuh1AwQnCH6vbYnaD\"})\r\n",
        "downloaded.GetContentFile('train_queries.json')\r\n",
        "\r\n",
        "# train_qrels.json : https://drive.google.com/file/d/1tyGyuYtbGJHcKQIYoF4yaYCL9HRF2hku/view?usp=sharing\r\n",
        "downloaded = drive.CreateFile({'id':\"1tyGyuYtbGJHcKQIYoF4yaYCL9HRF2hku\"})\r\n",
        "downloaded.GetContentFile('train_qrels.json')\r\n",
        "\r\n",
        "# test_docs.json https://drive.google.com/file/d/1XrBInztxbKW9FdNn8Tso9wPvnzkLbGaT/view?usp=sharing\r\n",
        "downloaded = drive.CreateFile({'id':\"1iyJ5F1BAT6BFKLOyumMt6z8jUaJ6KZLQ\"})\r\n",
        "downloaded.GetContentFile('train_docs.json')\r\n"
      ],
      "execution_count": 24,
      "outputs": []
    },
    {
      "cell_type": "markdown",
      "metadata": {
        "id": "yVZ88TGoRPlp"
      },
      "source": [
        "# Create Cranfield Datasets"
      ]
    },
    {
      "cell_type": "code",
      "metadata": {
        "id": "8pfLT6i1LSSW"
      },
      "source": [
        "%cd /content/CourseProject/competition/cranfield_metapy\r\n",
        "\r\n",
        "WORKDIR = !pwd\r\n",
        "WORKDIR = WORKDIR[0]\r\n",
        "BASE = WORKDIR + \"/../..\"\r\n",
        "DATASET_DIR = BASE + \"/competition/datasets\"\r\n",
        "JSON_DIR = BASE + \"/competition/json_data\"\r\n"
      ],
      "execution_count": null,
      "outputs": []
    },
    {
      "cell_type": "code",
      "metadata": {
        "id": "P69YeUGlMPEJ"
      },
      "source": [
        "!python $WORKDIR/create_cranfield.py \\\r\n",
        "    --run_type \"train;test\" \\\r\n",
        "    --query_keys \"query\" \\\r\n",
        "    --doc_keys \"title:abstract:intro\" \\\r\n",
        "    --cranfield_dir $WORKDIR \\\r\n",
        "    --input_dir $JSON_DIR"
      ],
      "execution_count": null,
      "outputs": []
    },
    {
      "cell_type": "markdown",
      "metadata": {
        "id": "e5BKHVbeRUwV"
      },
      "source": [
        "# Generate Predictions"
      ]
    },
    {
      "cell_type": "code",
      "metadata": {
        "id": "j6EhoeAcOrO-"
      },
      "source": [
        "!python $WORKDIR/search_eval.py \\\r\n",
        "    --run_type \"test\" \\\r\n",
        "    --ranker \"bm25+\" \\\r\n",
        "    --params \"1.0;0.38;1.0\" \\\r\n",
        "    --dat_keys \"title\" \\\r\n",
        "    --doc_weights \"1.0\" \\\r\n",
        "    --cranfield_dir $WORKDIR \\\r\n",
        "    --predict_dir $BASE \\\r\n",
        "    --remove_idx\r\n"
      ],
      "execution_count": null,
      "outputs": []
    },
    {
      "cell_type": "code",
      "metadata": {
        "id": "qy4PF_MAQVjJ"
      },
      "source": [
        "!cat $BASE/predictions.txt"
      ],
      "execution_count": null,
      "outputs": []
    }
  ]
}